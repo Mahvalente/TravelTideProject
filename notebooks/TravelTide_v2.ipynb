{
 "cells": [
  {
   "cell_type": "markdown",
   "id": "8ac72130-184d-4aba-ad2e-e498780811d0",
   "metadata": {},
   "source": [
    "# TravelTide 2.0"
   ]
  },
  {
   "cell_type": "markdown",
   "id": "953c08e6-3e66-4eb9-9c04-88f279f972bf",
   "metadata": {},
   "source": [
    "In this notebook we loaded all tables from `.csv` files that we saved on the version 1.0 of this project. We wanted to make the loading time smaller and already save some features that were created in the last version, so we can start to build and aggragate other data and information.  "
   ]
  },
  {
   "cell_type": "markdown",
   "id": "160ca46d-effb-480f-8777-636579909be9",
   "metadata": {},
   "source": [
    "## Imports"
   ]
  },
  {
   "cell_type": "code",
   "execution_count": 1,
   "id": "e308f87b-eaf5-4774-ae73-a5cb97d594dd",
   "metadata": {},
   "outputs": [],
   "source": [
    "# Importing required libraries\n",
    "import pandas as pd\n",
    "from datetime import datetime\n",
    "from collections import defaultdict\n",
    "import numpy as np "
   ]
  },
  {
   "cell_type": "markdown",
   "id": "30c0c311-9a11-46c1-8769-3e421bc354cf",
   "metadata": {},
   "source": [
    "## Data Upload"
   ]
  },
  {
   "cell_type": "markdown",
   "id": "0d5a5f4e-1675-472c-a4a0-6fbebdaa0171",
   "metadata": {},
   "source": [
    "### Sessions\n",
    "\n",
    "|Metric| Description|\n",
    "|-------|-----------|\n",
    "session_count|Total number of sessions\n",
    "booking_count|Number of sessions where a booking was made\n",
    "cancellations|Number of sessions where a cancellation occurred\n",
    "avg_session_duration_min|Average session duration in minutes\n",
    "|booking_conversion_rate|Ratio of bookings to total sessions\n",
    "cancellation_rate|Ratio of cancellations to total bookings\n",
    "explorer_bucket|User type based on session and booking behavior\n",
    "flight_discount_booking_rate|Ratio of flight bookings that used a discount\n",
    "hotel_discount_booking_rate|Ratio of hotel bookings that used a discount\n",
    "average_flight_discount|Average discount amount applied to flights\n",
    "average_hotel_discount|Average discount amount applied to hotels\n",
    "discount_booking_rate|Generalized rate combining both flight and hotel discounts\n",
    "discount_sensitivity_bucket|User discount sensitivity label\n",
    "avg_days_between_sessions|Average number of days between sessions\n",
    "weekend_user|Categorization as ‘Weekend’ or ‘Weekday’ user\n",
    "days_since_last_booking_bucket|Time bucket since user’s last booking\n"
   ]
  },
  {
   "cell_type": "code",
   "execution_count": 8,
   "id": "877b5361-9751-4fe5-a674-de1e700b881e",
   "metadata": {},
   "outputs": [],
   "source": [
    "# Reading CSV data file into a DataFrame\n",
    "df_sessions = pd.read_csv('df_sessions.csv')"
   ]
  },
  {
   "cell_type": "markdown",
   "id": "ad1d206b-4d20-43d5-9c51-64562942c7f1",
   "metadata": {},
   "source": [
    "### Sessions Features"
   ]
  },
  {
   "cell_type": "code",
   "execution_count": 10,
   "id": "dc8968e8-93b7-469a-8c7d-0ed4a81ec650",
   "metadata": {},
   "outputs": [],
   "source": [
    "# Reading CSV data file into a DataFrame\n",
    "sessions_features = pd.read_csv('sessions_features.csv')"
   ]
  },
  {
   "cell_type": "markdown",
   "id": "617ed0f6-edf2-442d-b28d-6d8401cc3459",
   "metadata": {},
   "source": [
    "## New Features"
   ]
  },
  {
   "cell_type": "markdown",
   "id": "0a0e78a8-38c2-4a43-9dff-591f16b8b6ff",
   "metadata": {},
   "source": [
    "**Sessions and Booking Behaviour**\n",
    "\n",
    "|Bucket|Definition|\n",
    "|------|---------|\n",
    "|Unengaged| Fewer than 5 sessions and no bookings|\n",
    "|Silent Explorer| 5+ sessions and no bookings|\n",
    "|Casual Explorer| Few sessions and at least 1 booking|\n",
    "|Engaged Explorer| 6-10 sessions and bookings|\n",
    "|Power Explorer|11+ Sessions und bookings|\n"
   ]
  },
  {
   "cell_type": "code",
   "execution_count": 12,
   "id": "73ee62c6-3f9c-46d7-b1ba-fc1b4ae6a697",
   "metadata": {},
   "outputs": [],
   "source": [
    "def assign_bucket(row):\n",
    "    if row['session_count'] >= 5 and row['booking_count'] == 0:\n",
    "        return \"Silent Explorer\"\n",
    "    elif row['session_count'] < 5 and row['booking_count'] >= 1:\n",
    "        return \"Casual Explorer\"\n",
    "    elif 6 <= row['session_count'] <= 10 and row['booking_count'] >= 1:\n",
    "        return \"Engaged Explorer\"\n",
    "    elif row['session_count'] > 10 and row['booking_count'] >= 1:\n",
    "        return \"Power Explorer\"\n",
    "    else:\n",
    "        return \"Unengaded\"\n",
    "\n",
    "# Applying a function row-wise to compute a new column\n",
    "sessions_features['explorer_bucket'] = sessions_features.apply(assign_bucket, axis=1)"
   ]
  },
  {
   "cell_type": "markdown",
   "id": "2097cac4-18ae-4b1d-9b80-bef3d1b45db2",
   "metadata": {},
   "source": [
    "**Discounts** \\\n",
    "The main idea of this part is to analyse the behavior of the users based on discounts. \n",
    "\n",
    "1. First we calculated the Flights and Hotels bookings, that had a discount. So if flight_discout/hotel_discount **true** and a booking was made, we got 1 (per session). Otherwise, 0. \n",
    "2. Average discounts given pro user for both *flights* and *hotels*.\n",
    "       - For a lot users there was the information that they got a discount, but at the discount amount column there was no information about how much it was. So the idea was to filter these 0 values out, since it would give the data wrong average values.\n",
    "3. We created buckets based on the discounts and booking behavior of the users."
   ]
  },
  {
   "cell_type": "markdown",
   "id": "ffdd4a74-ae96-4ad7-91db-ec9a26b7ad18",
   "metadata": {},
   "source": [
    "1. Calculate if a booking was made using a discount"
   ]
  },
  {
   "cell_type": "code",
   "execution_count": 13,
   "id": "caf01779-23f5-47ac-b5a9-9da9781915ac",
   "metadata": {},
   "outputs": [],
   "source": [
    "df_sessions['booked_with_flight_discount'] = (\n",
    "    (df_sessions['flight_discount'] == True) & (df_sessions['booking_made'] == True)\n",
    ").astype(int)\n",
    "\n",
    "df_sessions['booked_with_hotel_discount'] = (\n",
    "    (df_sessions['hotel_discount'] == True) & (df_sessions['booking_made'] == True)\n",
    ").astype(int)"
   ]
  },
  {
   "cell_type": "markdown",
   "id": "70180759-70a3-4bb2-ba37-fed00a4e2055",
   "metadata": {},
   "source": [
    "2. Average discounts given pro user for both *flights* and *hotels*. For some sessions, where `flight_discount` or `hotel_discount` were **true**, we have `NaN` values. For calculation propose, we leave the information like this and didn't change for now.\n",
    "\n",
    "$\\rightarrow$ hotel_discount_booking_rate & flight_discount_booking_rate means an average value of all bookings compared to bookings with discount. "
   ]
  },
  {
   "cell_type": "code",
   "execution_count": 14,
   "id": "ef384482-f392-4796-af2c-7efd64f0e4d5",
   "metadata": {},
   "outputs": [],
   "source": [
    "# Aggregating discount-related metrics per user:\n",
    "# - Calculates average booking rates with discounts and average discount amounts.\n",
    "discount_aggregates = df_sessions.groupby('user_id').agg({\n",
    "    'booked_with_flight_discount': 'mean',\n",
    "    'booked_with_hotel_discount': 'mean',\n",
    "    'flight_discount_amount': 'mean',\n",
    "    'hotel_discount_amount': 'mean'\n",
    "}).rename(columns={\n",
    "    'booked_with_flight_discount': 'flight_discount_booking_rate',\n",
    "    'booked_with_hotel_discount': 'hotel_discount_booking_rate',\n",
    "    'flight_discount_amount': 'average_flight_discount',\n",
    "    'hotel_discount_amount': 'average_hotel_discount'\n",
    "}).reset_index().round(2)"
   ]
  },
  {
   "cell_type": "code",
   "execution_count": 15,
   "id": "5c0e7819-4bb7-498b-92d4-530fd49d9ae9",
   "metadata": {},
   "outputs": [],
   "source": [
    "# Removing duplicates\n",
    "sessions_features = sessions_features.drop_duplicates(subset='user_id')\n",
    "\n",
    "# Merging datasets to enrich features\n",
    "sessions_features = sessions_features.merge(discount_aggregates, on='user_id', how='left')"
   ]
  },
  {
   "cell_type": "markdown",
   "id": "efa327dd-a9ac-46cc-b677-87bc75d20688",
   "metadata": {},
   "source": [
    "3. Buckets\n",
    "\n",
    "|Bucket|Definition|Rate|\n",
    "|-------|-----------|--|\n",
    "|No Booking & No Discount Exposure|Booking Conversion Rate of 0% and No Discounts|-|\n",
    "|Not Responsive to Discounts|Booking Conversion Rate of 0% and Discounts|-|\n",
    "|Non-sensitive|Books without any Discounts|0%|\n",
    "|Mildly sensitive|Sometimes uses Discounts|>0% - 50%|\n",
    "|Highly sensitive|Do Bookinhs Almost Only With Discounts|>50% - < 100%|\n",
    "|Only with discounts|Do Bookinhs Only With Discounts|100%|\n"
   ]
  },
  {
   "cell_type": "code",
   "execution_count": 16,
   "id": "caa531d3-a004-49e9-8732-9e8bc480cff1",
   "metadata": {},
   "outputs": [],
   "source": [
    "# Estimating the number of bookings made with flight and hotel discounts per user.\n",
    "# Calculated by multiplying discount booking rates with total booking count.\n",
    "sessions_features['flight_discount_bookings'] = (\n",
    "    sessions_features['flight_discount_booking_rate'] * sessions_features['booking_count']\n",
    ").round(2)\n",
    "\n",
    "sessions_features['hotel_discount_bookings'] = (\n",
    "    sessions_features['hotel_discount_booking_rate'] * sessions_features['booking_count']\n",
    ").round(2)"
   ]
  },
  {
   "cell_type": "code",
   "execution_count": 17,
   "id": "5f4c23b4-61ad-4ba8-925d-c82d9db495fc",
   "metadata": {},
   "outputs": [],
   "source": [
    "# Calculating total number of discounted bookings per user by summing flight and hotel discounts.\n",
    "sessions_features['discounted_bookings'] = (\n",
    "    sessions_features['flight_discount_bookings'] + sessions_features['hotel_discount_bookings']\n",
    ").round(2)"
   ]
  },
  {
   "cell_type": "code",
   "execution_count": 18,
   "id": "a1b709a2-1719-48c2-93cc-84fa491d2a31",
   "metadata": {},
   "outputs": [],
   "source": [
    "# Calculating the overall discount booking rate per user.\n",
    "# This represents the share of bookings made with either a flight or hotel discount.\n",
    "sessions_features['discount_booking_rate'] = (\n",
    "    sessions_features['discounted_bookings'] / sessions_features['booking_count']\n",
    ").round(2)"
   ]
  },
  {
   "cell_type": "code",
   "execution_count": 19,
   "id": "3a1a0b4e-5dbc-4fe3-82e2-8f23730f24d0",
   "metadata": {},
   "outputs": [],
   "source": [
    "# Assigning users to discount sensitivity buckets based on their booking behavior and discount exposure.\n",
    "# Cases:\n",
    "# - No Booking & No Discount Exposure: user never booked and was never shown discounts.\n",
    "# - Not Responsive to Discounts: discounts were available, but the user did not book.\n",
    "# - For users with bookings: calculates the share of bookings made with discounts and assigns sensitivity levels:\n",
    "#     - Non-sensitive (0% discount bookings)\n",
    "#     - Mildly sensitive (< 50% discount bookings)\n",
    "#     - Highly sensitive (50-99% discount bookings)\n",
    "#     - Only with discounts (100% discount bookings)\n",
    "def assign_discount_sensitivity_bucket(row):\n",
    "    if row['booking_count'] == 0 and \\\n",
    "       pd.isna(row['average_flight_discount']) and \\\n",
    "       pd.isna(row['average_hotel_discount']):\n",
    "        return 'No Booking & No Discount Exposure'\n",
    "    \n",
    "    elif row['booking_count'] == 0 and (\n",
    "        not pd.isna(row['average_flight_discount']) or not pd.isna(row['average_hotel_discount'])\n",
    "    ):\n",
    "        return 'Not Responsive to Discounts'\n",
    "    \n",
    "    else:\n",
    "        \n",
    "        total_discounted_bookings = (\n",
    "            row['flight_discount_booking_rate'] + row['hotel_discount_booking_rate']\n",
    "        ) * row['booking_count']\n",
    "\n",
    "        discount_booking_rate = total_discounted_bookings / row['booking_count']\n",
    "        \n",
    "        if discount_booking_rate == 0:\n",
    "            return 'Non-sensitive'\n",
    "        elif discount_booking_rate < 0.5:\n",
    "            return 'Mildly sensitive'\n",
    "        elif discount_booking_rate < 1.0:\n",
    "            return 'Highly sensitive'\n",
    "        else:\n",
    "            return 'Only with discounts'\n",
    "\n",
    "\n",
    "sessions_features['discount_sensitivity_bucket'] = sessions_features.apply(\n",
    "    assign_discount_sensitivity_bucket, axis=1\n",
    ")"
   ]
  },
  {
   "cell_type": "markdown",
   "id": "64f9e22c-f926-40eb-831b-84b8c3119bb0",
   "metadata": {},
   "source": [
    "**Average Days Between Sessions**\n",
    "\n",
    "Here calculated the average number of days between sessions per user."
   ]
  },
  {
   "cell_type": "code",
   "execution_count": 1,
   "id": "de27a3b8-d4d9-4b05-bbf7-234c8d414af0",
   "metadata": {},
   "outputs": [
    {
     "ename": "NameError",
     "evalue": "name 'pd' is not defined",
     "output_type": "error",
     "traceback": [
      "\u001b[31m---------------------------------------------------------------------------\u001b[39m",
      "\u001b[31mNameError\u001b[39m                                 Traceback (most recent call last)",
      "\u001b[36mCell\u001b[39m\u001b[36m \u001b[39m\u001b[32mIn[1]\u001b[39m\u001b[32m, line 2\u001b[39m\n\u001b[32m      1\u001b[39m \u001b[38;5;66;03m# 1. Convert session_start to datetime.\u001b[39;00m\n\u001b[32m----> \u001b[39m\u001b[32m2\u001b[39m df_sessions[\u001b[33m'\u001b[39m\u001b[33msession_start\u001b[39m\u001b[33m'\u001b[39m] = pd.to_datetime(df_sessions[\u001b[33m'\u001b[39m\u001b[33msession_start\u001b[39m\u001b[33m'\u001b[39m])\n\u001b[32m      4\u001b[39m \u001b[38;5;66;03m# 2. Sort sessions chronologically per user.\u001b[39;00m\n\u001b[32m      5\u001b[39m df_sessions_sorted = df_sessions.sort_values(by=[\u001b[33m'\u001b[39m\u001b[33muser_id\u001b[39m\u001b[33m'\u001b[39m, \u001b[33m'\u001b[39m\u001b[33msession_start\u001b[39m\u001b[33m'\u001b[39m])\n",
      "\u001b[31mNameError\u001b[39m: name 'pd' is not defined"
     ]
    }
   ],
   "source": [
    "# 1. Convert session_start to datetime.\n",
    "df_sessions['session_start'] = pd.to_datetime(df_sessions['session_start'])\n",
    "\n",
    "# 2. Sort sessions chronologically per user.\n",
    "df_sessions_sorted = df_sessions.sort_values(by=['user_id', 'session_start'])\n",
    "\n",
    "# 3. Compute day difference between consecutive sessions for each user.\n",
    "df_sessions_sorted['days_between'] = df_sessions_sorted.groupby('user_id')['session_start'].diff().dt.days\n",
    "\n",
    "# 4. Calculate the average days between sessions per user.\n",
    "avg_days_between_sessions = df_sessions_sorted.groupby('user_id')['days_between'].mean().reset_index().round(2)\n",
    "\n",
    "# 5. Rename column for clarity.\n",
    "avg_days_between_sessions.rename(columns={'days_between': 'avg_days_between_sessions'}, inplace=True)\n",
    "\n",
    "# Merging datasets to enrich features\n",
    "sessions_features = sessions_features.merge(avg_days_between_sessions, on='user_id', how='left')"
   ]
  },
  {
   "cell_type": "markdown",
   "id": "91d20969-dddd-448d-8cd2-5954994a9992",
   "metadata": {},
   "source": [
    "**Day Preference** \n",
    "\n",
    "Here we analysed if a user have more sessions on the week days or on the weekend. "
   ]
  },
  {
   "cell_type": "code",
   "execution_count": 21,
   "id": "9cf8f46a-a75a-4f81-9392-f81ba5f757b5",
   "metadata": {},
   "outputs": [],
   "source": [
    "# Categorizing each session as 'Weekday' or 'Weekend' based on the session_start date.\n",
    "# Days 5 and 6 (Saturday, Sunday) are labeled as 'Weekend', others as 'Weekday'.\n",
    "df_sessions['day_type'] = df_sessions['session_start'].dt.dayofweek.apply(\n",
    "    lambda x: 'Weekend' if x >= 5 else 'Weekday'\n",
    ")\n",
    "df_sessions['day_type'] = df_sessions['session_start'].dt.dayofweek.apply(\n",
    "    lambda x: 'Weekend' if x >= 5 else 'Weekday'\n",
    ")"
   ]
  },
  {
   "cell_type": "code",
   "execution_count": 22,
   "id": "7b900084-6f2d-47c3-859e-80a63c064aaf",
   "metadata": {},
   "outputs": [],
   "source": [
    "day_type_counts = df_sessions.groupby(['user_id', 'day_type']).size().unstack(fill_value=0).reset_index()"
   ]
  },
  {
   "cell_type": "code",
   "execution_count": 23,
   "id": "33529e6a-1601-470c-a2aa-6458b3988d56",
   "metadata": {},
   "outputs": [],
   "source": [
    "# Classifying users based on their session activity:\n",
    "# - 'Weekend User' if more sessions on weekends\n",
    "# - 'Weekday User' if more sessions on weekdays\n",
    "# - 'Balanced' if equal sessions on both\n",
    "def classify_user(row): \n",
    "    if row['Weekend'] > row['Weekday']:\n",
    "        return 'Weekend User'\n",
    "    elif row['Weekday'] > row['Weekend']:\n",
    "        return 'Weekday User'\n",
    "    else: \n",
    "        return 'Balanced'\n",
    "day_type_counts['session_day_type'] = day_type_counts.apply(classify_user, axis=1)"
   ]
  },
  {
   "cell_type": "code",
   "execution_count": 24,
   "id": "6e15368a-ecbd-43fe-b911-e517119b24ec",
   "metadata": {},
   "outputs": [],
   "source": [
    "# Merging datasets to enrich features\n",
    "sessions_features = sessions_features.merge(day_type_counts[['user_id', 'session_day_type']], on='user_id', how='left')"
   ]
  },
  {
   "cell_type": "code",
   "execution_count": 25,
   "id": "aedc7d9a-a284-4ec3-807f-d15694042bc3",
   "metadata": {},
   "outputs": [
    {
     "data": {
      "text/plain": [
       "day_type\n",
       "Weekday    1807663\n",
       "Weekend     707639\n",
       "Name: count, dtype: int64"
      ]
     },
     "execution_count": 25,
     "metadata": {},
     "output_type": "execute_result"
    }
   ],
   "source": [
    "df_sessions[\"day_type\"].value_counts()"
   ]
  },
  {
   "cell_type": "markdown",
   "id": "584e6afa-983d-4f51-b1e5-95b17e308766",
   "metadata": {},
   "source": [
    "**Days Since Last Booking**\n",
    "\n",
    "|Recency Bucket|Description|\n",
    "|--------------|-----------|\n",
    "|<= 7 days|Very Active|\n",
    "|8–14 days|Recent|\n",
    "|15–30 days|Semi-recent|\n",
    "|31–90 days|Dormant|\n",
    "|90+ days|At Risk|"
   ]
  },
  {
   "cell_type": "code",
   "execution_count": 26,
   "id": "16479519-d4fc-4f4f-9c67-19ec8c247ca5",
   "metadata": {},
   "outputs": [],
   "source": [
    "latest_date = df_sessions['session_start'].max().normalize()"
   ]
  },
  {
   "cell_type": "code",
   "execution_count": 27,
   "id": "6de7b640-5684-4f39-b66d-f0d4cb5c6ad1",
   "metadata": {},
   "outputs": [],
   "source": [
    "# Filter only bookings\n",
    "bookings = df_sessions[df_sessions['booking_made'] == True]\n",
    "# Get last booking per user\n",
    "last_booking = bookings.groupby('user_id')['session_start'].max().reset_index()\n",
    "\n",
    "last_booking.rename(columns={'session_start': 'last_booking_date'}, inplace=True)"
   ]
  },
  {
   "cell_type": "code",
   "execution_count": 28,
   "id": "09ce3ec4-a2bd-445d-ad3c-ed7d2466a244",
   "metadata": {},
   "outputs": [],
   "source": [
    "# Calculating the number of days since each user's last booking.\n",
    "# Subtracting the normalized last_booking_date from the latest session date.\n",
    "last_booking['days_since_last_booking'] = (\n",
    "    latest_date - last_booking['last_booking_date'].dt.normalize()\n",
    ").dt.days"
   ]
  },
  {
   "cell_type": "code",
   "execution_count": 29,
   "id": "6d570bd8-c762-4274-8e58-a5e630abc863",
   "metadata": {},
   "outputs": [],
   "source": [
    "def bucket_recency(days):\n",
    "    if days <= 7:\n",
    "        return '<= 7 days'\n",
    "    elif days <= 14:\n",
    "        return '8–14 days'\n",
    "    elif days <= 30:\n",
    "        return '15–30 days'\n",
    "    elif days <= 90:\n",
    "        return '31–90 days'\n",
    "    else:\n",
    "        return '90+ days'\n",
    "\n",
    "last_booking['recency_bucket'] = last_booking['days_since_last_booking'].apply(bucket_recency)"
   ]
  },
  {
   "cell_type": "code",
   "execution_count": 30,
   "id": "3142d0d2-b34f-4b91-9930-06a8bc2fad0e",
   "metadata": {},
   "outputs": [],
   "source": [
    "# Merging datasets\n",
    "sessions_features = sessions_features.merge(\n",
    "    last_booking[['user_id', 'days_since_last_booking', 'recency_bucket']],\n",
    "    on='user_id',\n",
    "    how='left'\n",
    ")"
   ]
  },
  {
   "cell_type": "code",
   "execution_count": 31,
   "id": "1974b8da-18c6-49d5-aa3f-2993616a9e54",
   "metadata": {},
   "outputs": [],
   "source": [
    "sessions_features['recency_bucket'] = sessions_features['recency_bucket'].fillna('No Booking')"
   ]
  },
  {
   "cell_type": "markdown",
   "id": "5808735c-273e-41a8-9cdb-8037dbb15bf4",
   "metadata": {},
   "source": [
    "### Flights\n",
    "\n",
    "\n",
    "Metric|Description\n",
    "------|-----------\n",
    "flight_booking_count|Total number of flight bookings\n",
    "total_flight_spent|Total amount spent on flights\n",
    "avg_seats_booked|Average number of seats booked per trip\n"
   ]
  },
  {
   "cell_type": "code",
   "execution_count": 32,
   "id": "22e7fc96-0df0-45d7-aaae-42e90b4aef2d",
   "metadata": {},
   "outputs": [],
   "source": [
    "# Reading CSV data file into a DataFrame\n",
    "df_flights = pd.read_csv('df_flights.csv')"
   ]
  },
  {
   "cell_type": "markdown",
   "id": "6478df46-5d9c-4540-88df-bc7e865b4462",
   "metadata": {},
   "source": [
    "### Flights Features"
   ]
  },
  {
   "cell_type": "code",
   "execution_count": 34,
   "id": "a8386468-ad58-43eb-bb62-2791e8558ad2",
   "metadata": {},
   "outputs": [],
   "source": [
    "# Reading CSV data file into a DataFrame\n",
    "flights_features = pd.read_csv('flights_features.csv')"
   ]
  },
  {
   "cell_type": "markdown",
   "id": "94d216a4-b2c7-4d9d-a153-1681e2924bd3",
   "metadata": {},
   "source": [
    "#### \"scaled_ADS_per_km\"\n"
   ]
  },
  {
   "cell_type": "code",
   "execution_count": 44,
   "id": "ed47bde6-dc44-4547-bda3-e774fa3c3065",
   "metadata": {
    "scrolled": true
   },
   "outputs": [],
   "source": [
    "# Step 1: Adding user_id to flights data by merging with sessions via trip_id.\n",
    "df_flights = df_flights.merge(\n",
    "    df_sessions[[\"trip_id\", \"user_id\"]],\n",
    "    on=\"trip_id\",\n",
    "    how=\"left\"\n",
    ")\n",
    "\n",
    "# Step 2: Adding origin airport coordinates from users data to flights.\n",
    "df_flights = df_flights.merge(\n",
    "    df_users[[\"user_id\", \"home_airport_lat\", \"home_airport_lon\"]],\n",
    "    on=\"user_id\",\n",
    "    how=\"left\"\n",
    ")"
   ]
  },
  {
   "cell_type": "code",
   "execution_count": 46,
   "id": "459ef7eb-8e08-4dad-bb39-f3416c0a95bc",
   "metadata": {},
   "outputs": [],
   "source": [
    "# Function to calculate the great-circle distance between two coordinates using the Haversine formula.\n",
    "# Returns distance in kilometers.\n",
    "def haversine(lat1, lon1, lat2, lon2):\n",
    "    R = 6371  # Earth's radius in km\n",
    "    lat1, lon1, lat2, lon2 = map(np.radians, [lat1, lon1, lat2, lon2])  # Convert degrees to radians\n",
    "    dlat = lat2 - lat1  # Latitude difference\n",
    "    dlon = lon2 - lon1  # Longitude difference\n",
    "    a = np.sin(dlat / 2) ** 2 + np.cos(lat1) * np.cos(lat2) * np.sin(dlon / 2) ** 2  # Haversine formula part\n",
    "    c = 2 * np.arctan2(np.sqrt(a), np.sqrt(1 - a))  # Angular distance in radians\n",
    "    return R * c  # Distance in km\n",
    "\n",
    "# Calculating the flight distance in kilometers for each trip using home and destination airport coordinates.\n",
    "df_flights[\"flight_distance_km\"] = haversine(\n",
    "    df_flights[\"home_airport_lat\"], df_flights[\"home_airport_lon\"],\n",
    "    df_flights[\"destination_airport_lat\"], df_flights[\"destination_airport_lon\"]\n",
    ")\n",
    "\n",
    "# Calculating the total amount saved in dollars through flight discounts per user.\n",
    "# Multiplying total flight spending by the average flight discount rate.\n",
    "df_flights[\"flight_discount_dollars_saved\"] = (\n",
    "    flights_features[\"total_flight_spent\"] * sessions_features[\"average_flight_discount\"]\n",
    ")\n",
    "\n",
    "# Calculating the scaled dollars saved per kilometer.\n",
    "# Measures how much discount a user saves per kilometer flown.\n",
    "flights_features[\"scaled_ADS_per_km\"] = (\n",
    "    df_flights[\"flight_discount_dollars_saved\"] / df_flights[\"flight_distance_km\"]\n",
    ")\n",
    "\n",
    "# Cleaning up extreme values:\n",
    "# Replace infinite values with NaN, then drop rows where scaled_ADS_per_km could not be calculated.\n",
    "flights_features = flights_features.replace([np.inf, -np.inf], np.nan)\n",
    "flights_features = flights_features.dropna(subset=[\"scaled_ADS_per_km\"])"
   ]
  },
  {
   "cell_type": "markdown",
   "id": "e779c277-32ab-4d34-9c74-8a148278e7ff",
   "metadata": {},
   "source": [
    "## Bargain Seekers\n",
    "\n",
    "Bargain Seekers are users who are highly price-sensitive and tend to respond well to discounts and promotional offers.\n",
    "\n",
    "To identify this segment, we created a Bargain Index combining the following metrics:\n",
    "- **flight_discount_booking_rate**: Share of bookings made with flight discounts.\n",
    "- **average_flight_discount**: Average discount percentage applied to flight bookings.\n",
    "- **scaled_ADS_per_km**: Dollars saved per kilometer flown, adjusted to user behavior.\n",
    "\n",
    "Users with a high Bargain Index are those who consistently benefit from discounts and prioritize lower prices when making travel decisions.\n",
    "\n",
    "For segmentation, we selected the **top 10% of users with the highest Bargain Index** to receive perks that match their discount-driven behavior.\n",
    "These perks include **exclusive flight and hotel discount offers** targeted to encourage repeat bookings."
   ]
  },
  {
   "cell_type": "markdown",
   "id": "15040eff-3670-4aa6-b081-90c2fd4633fc",
   "metadata": {},
   "source": [
    "#### Bargain Index"
   ]
  },
  {
   "cell_type": "code",
   "execution_count": 48,
   "id": "42c155bd-c7c0-4931-9891-cdd8680755b1",
   "metadata": {},
   "outputs": [],
   "source": [
    "flights_features[\"bargain_index\"] = (\n",
    "    sessions_features[\"flight_discount_booking_rate\"] *\n",
    "    sessions_features[\"average_flight_discount\"] *\n",
    "    flights_features[\"scaled_ADS_per_km\"]\n",
    ")"
   ]
  },
  {
   "cell_type": "code",
   "execution_count": 49,
   "id": "7b041545-1618-46be-9caa-d1d9f52e96e7",
   "metadata": {},
   "outputs": [],
   "source": [
    "# 90th percentile cutoff\n",
    "cutoff_90 = flights_features[\"bargain_index\"].quantile(0.90)\n",
    "\n",
    "flights_features[\"bargain_perk_segment\"] = (flights_features[\"bargain_index\"] >= cutoff_90)"
   ]
  },
  {
   "cell_type": "markdown",
   "id": "5cb6306d-40ea-4706-a503-88f80d041a0b",
   "metadata": {},
   "source": [
    "### Hotels\n",
    "\n",
    "Metric|Description\n",
    "------|-----------\n",
    "hotels_booking_count|Total number of hotel bookings\n",
    "total_hotel_spent|Total amount spent on hotels\n",
    "avg_nights_booked|Average number of nights booked per stay\n"
   ]
  },
  {
   "cell_type": "code",
   "execution_count": 50,
   "id": "279791e5-a889-4e21-a88a-638f3244de53",
   "metadata": {},
   "outputs": [],
   "source": [
    "# Reading CSV data file into a DataFrame\n",
    "df_hotels = pd.read_csv('df_hotels.csv')"
   ]
  },
  {
   "cell_type": "markdown",
   "id": "e2070a2a-e731-41b2-b847-1171db1e37f2",
   "metadata": {},
   "source": [
    "### Hotels Features"
   ]
  },
  {
   "cell_type": "code",
   "execution_count": 52,
   "id": "5369633f-2545-4326-b4cd-34291686368c",
   "metadata": {},
   "outputs": [],
   "source": [
    "# Reading CSV data file into a DataFrame\n",
    "hotels_features = pd.read_csv('hotels_features.csv')"
   ]
  },
  {
   "cell_type": "markdown",
   "id": "d8d05a10-7847-45ea-bf65-b8ff33f75e77",
   "metadata": {},
   "source": [
    "### Users\n",
    "\n",
    "Column|Description\n",
    "------|-----------\n",
    "user_id|Unique user identifier\n",
    "birthdate|Date of birth\n",
    "gender|Gender\n",
    "married|Marital status\n",
    "has_children|Whether the user has children\n",
    "home_country|Country of residence\n",
    "home_city|City of residence\n",
    "sign_up_date|Date of account creation\n",
    "age|Calculated age based on birthdate\n",
    "age_bucket|Grouped age range \n",
    "\n"
   ]
  },
  {
   "cell_type": "code",
   "execution_count": 37,
   "id": "7c6d719c-938f-44f9-98cc-435d659c5255",
   "metadata": {},
   "outputs": [],
   "source": [
    "# Reading CSV data file into a DataFrame\n",
    "df_users = pd.read_csv('df_users.csv')"
   ]
  },
  {
   "cell_type": "markdown",
   "id": "f653ef85-bd84-4046-8a87-835ab545cfae",
   "metadata": {},
   "source": [
    "#### Joining Users Table and Feature Tables"
   ]
  },
  {
   "cell_type": "code",
   "execution_count": 53,
   "id": "84de87d5-813e-4550-af01-21d5f1b4505f",
   "metadata": {},
   "outputs": [],
   "source": [
    "users_features = df_users.copy()\n",
    "\n",
    "# Merging datasets\n",
    "users_features = users_features.merge(sessions_features, on=\"user_id\", how=\"left\")\n",
    "users_features = users_features.merge(flights_features, on=\"user_id\", how=\"left\")\n",
    "users_features = users_features.merge(hotels_features, on=\"user_id\", how=\"left\")"
   ]
  },
  {
   "cell_type": "markdown",
   "id": "5c5d1908-32d5-4722-bce8-786ba90a6fac",
   "metadata": {},
   "source": [
    "## Save .CSV "
   ]
  },
  {
   "cell_type": "code",
   "execution_count": 55,
   "id": "27bca5a5-d32e-48ed-bac1-30a77eaa7296",
   "metadata": {},
   "outputs": [],
   "source": [
    "df_sessions.to_csv('df_sessions_2.csv', index=False)\n",
    "df_flights.to_csv('df_flights_2.csv', index=False)\n",
    "#df_hotels.to_csv('df_hotels.csv', index=False)\n",
    "#df_users.to_csv('df_users.csv', index=False)\n",
    "\n",
    "sessions_features.to_csv('sessions_features_2.csv', index=False)\n",
    "flights_features.to_csv('flights_features_2.csv', index=False)\n",
    "#hotel_agg.to_csv('hotels_features.csv', index=False)\n",
    "users_features.to_csv('users_features.csv', index=False)"
   ]
  }
 ],
 "metadata": {
  "kernelspec": {
   "display_name": "Python 3 (ipykernel)",
   "language": "python",
   "name": "python3"
  },
  "language_info": {
   "codemirror_mode": {
    "name": "ipython",
    "version": 3
   },
   "file_extension": ".py",
   "mimetype": "text/x-python",
   "name": "python",
   "nbconvert_exporter": "python",
   "pygments_lexer": "ipython3",
   "version": "3.13.2"
  }
 },
 "nbformat": 4,
 "nbformat_minor": 5
}
